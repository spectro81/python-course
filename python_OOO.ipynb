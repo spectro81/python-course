{
  "nbformat": 4,
  "nbformat_minor": 0,
  "metadata": {
    "colab": {
      "provenance": [],
      "authorship_tag": "ABX9TyOH0VzY2EhH4iqJt2Tt/GhQ",
      "include_colab_link": true
    },
    "kernelspec": {
      "name": "python3",
      "display_name": "Python 3"
    },
    "language_info": {
      "name": "python"
    }
  },
  "cells": [
    {
      "cell_type": "markdown",
      "metadata": {
        "id": "view-in-github",
        "colab_type": "text"
      },
      "source": [
        "<a href=\"https://colab.research.google.com/github/spectro81/python-course/blob/main/python_OOO.ipynb\" target=\"_parent\"><img src=\"https://colab.research.google.com/assets/colab-badge.svg\" alt=\"Open In Colab\"/></a>"
      ]
    },
    {
      "cell_type": "code",
      "execution_count": 20,
      "metadata": {
        "colab": {
          "base_uri": "https://localhost:8080/"
        },
        "id": "dUU6gH4FfUpJ",
        "outputId": "f03f0953-4580-4f00-9058-c3efe40336db"
      },
      "outputs": [
        {
          "output_type": "stream",
          "name": "stdout",
          "text": [
            "estoy en el constructor\n",
            "Feliz cumpleaños #21 Paco\n",
            "estoy en el constructor\n",
            "Usted ha trabajado 8\n",
            "Horas totales: 38\n",
            "Feliz cumpleaños #21 Paco\n"
          ]
        }
      ],
      "source": [
        "class Persona:\n",
        "  atributo = 123\n",
        "\n",
        "  def __init__(self, nombre, edad): #Constructor: define las propiedades iniciales del objeto, al crearse\n",
        "    print('estoy en el constructor')\n",
        "    self.nombre = nombre\n",
        "    self.edad = edad\n",
        "\n",
        "  def cumplir_anios(self):\n",
        "    self.edad += 1\n",
        "    print(f\"Feliz cumpleaños #{self.edad} {self.nombre}\")\n",
        "\n",
        "#atributos. De Instancia (dentro del constructor) y de la Clase. Los atributos de la clase de definen por fuera del constructor.\n",
        "\n",
        "\n",
        "#print(pedro == paco) #pertenecen a la misma clase, pero no son el mismo objeto\n",
        "\n",
        "paco = Persona(nombre='Paco', edad=20)\n",
        "paco.cumplir_anios()\n",
        "\n",
        "#herencia\n",
        "class Empleado(Persona):\n",
        "  def __init__(self, horas_totales, nombre,edad):\n",
        "    super(Empleado,self).__init__(nombre,edad) #si no agregamos esta linea, el constructor de la clase Empleado pisará al de la clase Persona\n",
        "    # y no queremos que eso suceda sino queremos que herede\n",
        "    self.horas_totales= horas_totales\n",
        "\n",
        "  def trabajar(self, horas_trabajadas):\n",
        "    self.horas_totales+= horas_trabajadas\n",
        "    print(f\"Usted ha trabajado {horas_trabajadas}\")\n",
        "    print(f\"Horas totales: {self.horas_totales}\")\n",
        "\n",
        "\n",
        "paco = Empleado(nombre='Paco', edad=20, horas_totales=30)\n",
        "paco.trabajar(horas_trabajadas=8)\n",
        "paco.cumplir_anios()\n",
        "\n",
        "\n",
        "\n"
      ]
    },
    {
      "cell_type": "code",
      "source": [],
      "metadata": {
        "id": "HX7KeSSJlU7Z"
      },
      "execution_count": null,
      "outputs": []
    },
    {
      "cell_type": "code",
      "source": [
        "#Exceptions\n",
        "\n",
        "def validar_x(x):\n",
        "  if x<1:\n",
        "    raise Exception(\"La variable x debe ser mayor a 1\")\n",
        "  else:\n",
        "    print(\"x es mayor a 1\")\n",
        "\n",
        "\n",
        "x = 0.4\n",
        "\n",
        "validar_x(x)\n"
      ],
      "metadata": {
        "colab": {
          "base_uri": "https://localhost:8080/",
          "height": 321
        },
        "id": "t10uvhTgoz2l",
        "outputId": "a04bd507-c433-4a3f-9590-d2bc83b6b368"
      },
      "execution_count": 26,
      "outputs": [
        {
          "output_type": "error",
          "ename": "Exception",
          "evalue": "ignored",
          "traceback": [
            "\u001b[0;31m---------------------------------------------------------------------------\u001b[0m",
            "\u001b[0;31mException\u001b[0m                                 Traceback (most recent call last)",
            "\u001b[0;32m<ipython-input-26-6047d22c0544>\u001b[0m in \u001b[0;36m<module>\u001b[0;34m\u001b[0m\n\u001b[1;32m      8\u001b[0m \u001b[0mx\u001b[0m \u001b[0;34m=\u001b[0m \u001b[0;36m0.4\u001b[0m\u001b[0;34m\u001b[0m\u001b[0;34m\u001b[0m\u001b[0m\n\u001b[1;32m      9\u001b[0m \u001b[0;34m\u001b[0m\u001b[0m\n\u001b[0;32m---> 10\u001b[0;31m \u001b[0mvalidar_x\u001b[0m\u001b[0;34m(\u001b[0m\u001b[0mx\u001b[0m\u001b[0;34m)\u001b[0m\u001b[0;34m\u001b[0m\u001b[0;34m\u001b[0m\u001b[0m\n\u001b[0m",
            "\u001b[0;32m<ipython-input-26-6047d22c0544>\u001b[0m in \u001b[0;36mvalidar_x\u001b[0;34m(x)\u001b[0m\n\u001b[1;32m      1\u001b[0m \u001b[0;32mdef\u001b[0m \u001b[0mvalidar_x\u001b[0m\u001b[0;34m(\u001b[0m\u001b[0mx\u001b[0m\u001b[0;34m)\u001b[0m\u001b[0;34m:\u001b[0m\u001b[0;34m\u001b[0m\u001b[0;34m\u001b[0m\u001b[0m\n\u001b[1;32m      2\u001b[0m   \u001b[0;32mif\u001b[0m \u001b[0mx\u001b[0m\u001b[0;34m<\u001b[0m\u001b[0;36m1\u001b[0m\u001b[0;34m:\u001b[0m\u001b[0;34m\u001b[0m\u001b[0;34m\u001b[0m\u001b[0m\n\u001b[0;32m----> 3\u001b[0;31m     \u001b[0;32mraise\u001b[0m \u001b[0mException\u001b[0m\u001b[0;34m(\u001b[0m\u001b[0;34m\"La variable x debe ser mayor a 1\"\u001b[0m\u001b[0;34m)\u001b[0m\u001b[0;34m\u001b[0m\u001b[0;34m\u001b[0m\u001b[0m\n\u001b[0m\u001b[1;32m      4\u001b[0m   \u001b[0;32melse\u001b[0m\u001b[0;34m:\u001b[0m\u001b[0;34m\u001b[0m\u001b[0;34m\u001b[0m\u001b[0m\n\u001b[1;32m      5\u001b[0m     \u001b[0mprint\u001b[0m\u001b[0;34m(\u001b[0m\u001b[0;34m\"x es mayor a 1\"\u001b[0m\u001b[0;34m)\u001b[0m\u001b[0;34m\u001b[0m\u001b[0;34m\u001b[0m\u001b[0m\n",
            "\u001b[0;31mException\u001b[0m: La variable x debe ser mayor a 1"
          ]
        }
      ]
    },
    {
      "cell_type": "code",
      "source": [
        "#Assert Exception. No hace falta el Raise dado que el Assert valida la condición y de no cumplirse genera una exception\n",
        "\n",
        "def calcular_promedio(lista):\n",
        "  assert len(lista)>0, \"La lista está vacía\"\n",
        "  return sum(lista) / len(lista)\n",
        "\n",
        "\n",
        "promedio = calcular_promedio(lista=[])\n",
        "print(promedio)\n",
        "\n"
      ],
      "metadata": {
        "colab": {
          "base_uri": "https://localhost:8080/",
          "height": 356
        },
        "id": "1-6dX_Sip7kP",
        "outputId": "e91067d4-5d0b-4e7d-8cbd-8e8bb99d4ec6"
      },
      "execution_count": 32,
      "outputs": [
        {
          "output_type": "error",
          "ename": "AssertionError",
          "evalue": "ignored",
          "traceback": [
            "\u001b[0;31m---------------------------------------------------------------------------\u001b[0m",
            "\u001b[0;31mAssertionError\u001b[0m                            Traceback (most recent call last)",
            "\u001b[0;32m<ipython-input-32-bb49b7ae09fe>\u001b[0m in \u001b[0;36m<module>\u001b[0;34m\u001b[0m\n\u001b[1;32m      6\u001b[0m \u001b[0;34m\u001b[0m\u001b[0m\n\u001b[1;32m      7\u001b[0m \u001b[0;34m\u001b[0m\u001b[0m\n\u001b[0;32m----> 8\u001b[0;31m \u001b[0mpromedio\u001b[0m \u001b[0;34m=\u001b[0m \u001b[0mcalcular_promedio\u001b[0m\u001b[0;34m(\u001b[0m\u001b[0mlista\u001b[0m\u001b[0;34m=\u001b[0m\u001b[0;34m[\u001b[0m\u001b[0;34m]\u001b[0m\u001b[0;34m)\u001b[0m\u001b[0;34m\u001b[0m\u001b[0;34m\u001b[0m\u001b[0m\n\u001b[0m\u001b[1;32m      9\u001b[0m \u001b[0mprint\u001b[0m\u001b[0;34m(\u001b[0m\u001b[0mpromedio\u001b[0m\u001b[0;34m)\u001b[0m\u001b[0;34m\u001b[0m\u001b[0;34m\u001b[0m\u001b[0m\n\u001b[1;32m     10\u001b[0m \u001b[0;34m\u001b[0m\u001b[0m\n",
            "\u001b[0;32m<ipython-input-32-bb49b7ae09fe>\u001b[0m in \u001b[0;36mcalcular_promedio\u001b[0;34m(lista)\u001b[0m\n\u001b[1;32m      2\u001b[0m \u001b[0;34m\u001b[0m\u001b[0m\n\u001b[1;32m      3\u001b[0m \u001b[0;32mdef\u001b[0m \u001b[0mcalcular_promedio\u001b[0m\u001b[0;34m(\u001b[0m\u001b[0mlista\u001b[0m\u001b[0;34m)\u001b[0m\u001b[0;34m:\u001b[0m\u001b[0;34m\u001b[0m\u001b[0;34m\u001b[0m\u001b[0m\n\u001b[0;32m----> 4\u001b[0;31m   \u001b[0;32massert\u001b[0m \u001b[0mlen\u001b[0m\u001b[0;34m(\u001b[0m\u001b[0mlista\u001b[0m\u001b[0;34m)\u001b[0m\u001b[0;34m>\u001b[0m\u001b[0;36m0\u001b[0m\u001b[0;34m,\u001b[0m \u001b[0;34m\"La lista está vacía\"\u001b[0m\u001b[0;34m\u001b[0m\u001b[0;34m\u001b[0m\u001b[0m\n\u001b[0m\u001b[1;32m      5\u001b[0m   \u001b[0;32mreturn\u001b[0m \u001b[0msum\u001b[0m\u001b[0;34m(\u001b[0m\u001b[0mlista\u001b[0m\u001b[0;34m)\u001b[0m \u001b[0;34m/\u001b[0m \u001b[0mlen\u001b[0m\u001b[0;34m(\u001b[0m\u001b[0mlista\u001b[0m\u001b[0;34m)\u001b[0m\u001b[0;34m\u001b[0m\u001b[0;34m\u001b[0m\u001b[0m\n\u001b[1;32m      6\u001b[0m \u001b[0;34m\u001b[0m\u001b[0m\n",
            "\u001b[0;31mAssertionError\u001b[0m: La lista está vacía"
          ]
        }
      ]
    },
    {
      "cell_type": "code",
      "source": [
        "#Assert Exception. No hace falta el Raise dado que el Assert valida la condición y de no cumplirse genera una exception\n",
        "\n",
        "def calcular_promedio(lista):\n",
        "  assert len(lista)>0, \"La lista está vacía\"\n",
        "  return sum(lista) / len(lista)\n",
        "\n",
        "\n",
        "promedio = calcular_promedio(lista=[1,3,5])\n",
        "print(promedio)\n"
      ],
      "metadata": {
        "colab": {
          "base_uri": "https://localhost:8080/"
        },
        "id": "dhhLyHtoq8w3",
        "outputId": "81c917c1-c26c-4a75-a98d-52c3f04f2590"
      },
      "execution_count": 33,
      "outputs": [
        {
          "output_type": "stream",
          "name": "stdout",
          "text": [
            "3.0\n"
          ]
        }
      ]
    },
    {
      "cell_type": "code",
      "source": [
        "#Try - Except\n",
        "\n",
        "def calcular_promedio(lista):\n",
        "  assert len(lista)>0, \"La lista está vacía\"\n",
        "  return sum(lista) / len(lista)\n",
        "\n",
        "try:\n",
        "  promedio = calcular_promedio(lista=['pablo'])\n",
        "  print(promedio)\n",
        "except AssertionError as assert_error:\n",
        "  print(assert_error)\n",
        "except Exception as e:\n",
        "  print(\"La función no calculó el promedio\")\n",
        "  print(e)\n"
      ],
      "metadata": {
        "colab": {
          "base_uri": "https://localhost:8080/"
        },
        "id": "glJjznKmq1bQ",
        "outputId": "62ea9d32-49c4-44c0-97f7-67eb0a2ad318"
      },
      "execution_count": 41,
      "outputs": [
        {
          "output_type": "stream",
          "name": "stdout",
          "text": [
            "La función no calculó el promedio\n",
            "unsupported operand type(s) for +: 'int' and 'str'\n"
          ]
        }
      ]
    },
    {
      "cell_type": "code",
      "source": [],
      "metadata": {
        "id": "iStFIE7grQWM"
      },
      "execution_count": null,
      "outputs": []
    }
  ]
}