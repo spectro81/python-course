{
  "nbformat": 4,
  "nbformat_minor": 0,
  "metadata": {
    "colab": {
      "provenance": [],
      "authorship_tag": "ABX9TyPIcPmNKp7DL/N6A8OUnkfL",
      "include_colab_link": true
    },
    "kernelspec": {
      "name": "python3",
      "display_name": "Python 3"
    },
    "language_info": {
      "name": "python"
    }
  },
  "cells": [
    {
      "cell_type": "markdown",
      "metadata": {
        "id": "view-in-github",
        "colab_type": "text"
      },
      "source": [
        "<a href=\"https://colab.research.google.com/github/spectro81/python-course/blob/main/python_OOO.ipynb\" target=\"_parent\"><img src=\"https://colab.research.google.com/assets/colab-badge.svg\" alt=\"Open In Colab\"/></a>"
      ]
    },
    {
      "cell_type": "code",
      "execution_count": 20,
      "metadata": {
        "colab": {
          "base_uri": "https://localhost:8080/"
        },
        "id": "dUU6gH4FfUpJ",
        "outputId": "f03f0953-4580-4f00-9058-c3efe40336db"
      },
      "outputs": [
        {
          "output_type": "stream",
          "name": "stdout",
          "text": [
            "estoy en el constructor\n",
            "Feliz cumpleaños #21 Paco\n",
            "estoy en el constructor\n",
            "Usted ha trabajado 8\n",
            "Horas totales: 38\n",
            "Feliz cumpleaños #21 Paco\n"
          ]
        }
      ],
      "source": [
        "class Persona:\n",
        "  atributo = 123\n",
        "\n",
        "  def __init__(self, nombre, edad): #Constructor: define las propiedades iniciales del objeto, al crearse\n",
        "    print('estoy en el constructor')\n",
        "    self.nombre = nombre\n",
        "    self.edad = edad\n",
        "\n",
        "  def cumplir_anios(self):\n",
        "    self.edad += 1\n",
        "    print(f\"Feliz cumpleaños #{self.edad} {self.nombre}\")\n",
        "\n",
        "#atributos. De Instancia (dentro del constructor) y de la Clase. Los atributos de la clase de definen por fuera del constructor.\n",
        "\n",
        "\n",
        "#print(pedro == paco) #pertenecen a la misma clase, pero no son el mismo objeto\n",
        "\n",
        "paco = Persona(nombre='Paco', edad=20)\n",
        "paco.cumplir_anios()\n",
        "\n",
        "#herencia\n",
        "class Empleado(Persona):\n",
        "  def __init__(self, horas_totales, nombre,edad):\n",
        "    super(Empleado,self).__init__(nombre,edad) #si no agregamos esta linea, el constructor de la clase Empleado pisará al de la clase Persona\n",
        "    # y no queremos que eso suceda sino queremos que herede\n",
        "    self.horas_totales= horas_totales\n",
        "\n",
        "  def trabajar(self, horas_trabajadas):\n",
        "    self.horas_totales+= horas_trabajadas\n",
        "    print(f\"Usted ha trabajado {horas_trabajadas}\")\n",
        "    print(f\"Horas totales: {self.horas_totales}\")\n",
        "\n",
        "\n",
        "paco = Empleado(nombre='Paco', edad=20, horas_totales=30)\n",
        "paco.trabajar(horas_trabajadas=8)\n",
        "paco.cumplir_anios()\n",
        "\n",
        "\n",
        "\n"
      ]
    },
    {
      "cell_type": "code",
      "source": [],
      "metadata": {
        "id": "HX7KeSSJlU7Z"
      },
      "execution_count": null,
      "outputs": []
    }
  ]
}